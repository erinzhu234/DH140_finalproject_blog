{
 "cells": [
  {
   "cell_type": "markdown",
   "id": "bbf0a3f2",
   "metadata": {},
   "source": [
    "---\n",
    "title: \"First File\"\n",
    "description: \"Testing Quarto\"\n",
    "author: \"Ben Winjum\"\n",
    "date: \"03/06/2023\"\n",
    "date-modified: \"03/06/2023\"\n",
    "---\n"
   ]
  },
  {
   "cell_type": "markdown",
   "id": "9e137e3f",
   "metadata": {},
   "source": [
    "[*The Museum of Modern Art (MoMA) Collection*](https://github.com/MuseumofModernArt/collection)\n",
    "\n",
    "*DESCRIPTION*\n",
    "\n",
    "* The Museum of Modern Art (MoMA) acquired its first artworks in 1929, the year it was established. Today, the Museum’s evolving collection contains almost 200,000 works from around the world spanning the last 150 years. The collection includes an ever-expanding range of visual expression, including painting, sculpture, printmaking, drawing, photography, architecture, design, film, and media and performance art.\n",
    "\n",
    "* The Artists dataset contains 15,243 records, representing all the artists who have work in MoMA's collection and have been cataloged in our database. It includes basic metadata for each artist, including name, nationality, gender, birth year, death year, Wiki QID, and Getty ULAN ID.\n",
    "\n",
    "*MOTIVATION*\n",
    "\n",
    "* This dataset contains a good representation of information about modern arts. Through this dataset, we can see what are the trends in modern arts today based on analysis of the data, including information about the art themselves and the artists who created them. I have been interested in the underlying trends in all forms of arts, leading me to look at this dataset for this project. \n",
    "\n",
    "*QUESTIONS*\n",
    "\n",
    "* What is the most type of art that is included in the collection? \n",
    "* What are the most popular forms of art in this collection and what can this tell about this collection? \n",
    "* What themes are the most common in modern arts? \n",
    "* What can we tell from the artists whose arts is collected? How are the race, nationalities, gender distributed, and what can we know from the distribution? "
   ]
  },
  {
   "cell_type": "markdown",
   "id": "4d1cad3f",
   "metadata": {},
   "source": [
    "*explores and presents information about your data*\n",
    "\n",
    "* This can include summary information about the data, summary statistics where appropriate, an identification of where there may be missing/incorrect/outlier data, and data preprocessing (to be done after the analysis)\n",
    "* It should include at least 4 exploratory data visualizations (to be done after creating visualizations)"
   ]
  },
  {
   "cell_type": "code",
   "execution_count": null,
   "id": "2f2438ab",
   "metadata": {},
   "outputs": [],
   "source": [
    "# begin of analysis\n",
    "\n",
    "# visualization 1\n",
    "# idea: distribution of types or forms of arts\n",
    "\n",
    "# visualization 2\n",
    "# idea: if possible, distribution of themes of arts\n",
    "\n",
    "# visualization 3\n",
    "# idea: distribution of some traits of artists\n",
    "\n",
    "# visualization 4\n",
    "# idea: more analysis on artists"
   ]
  },
  {
   "cell_type": "markdown",
   "id": "fd9c30bb",
   "metadata": {},
   "source": [
    "* might contain some analysis of the visualizations here\n",
    "* or do a markdown cell after each visualization to place analysis"
   ]
  },
  {
   "cell_type": "code",
   "execution_count": null,
   "id": "c7745425",
   "metadata": {},
   "outputs": [],
   "source": []
  }
 ],
 "metadata": {
  "kernelspec": {
   "display_name": "Python 3 (ipykernel)",
   "language": "python",
   "name": "python3"
  },
  "language_info": {
   "codemirror_mode": {
    "name": "ipython",
    "version": 3
   },
   "file_extension": ".py",
   "mimetype": "text/x-python",
   "name": "python",
   "nbconvert_exporter": "python",
   "pygments_lexer": "ipython3",
   "version": "3.10.8"
  }
 },
 "nbformat": 4,
 "nbformat_minor": 5
}
