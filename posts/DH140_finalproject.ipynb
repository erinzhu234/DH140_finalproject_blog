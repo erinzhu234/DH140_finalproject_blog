{
 "cells": [
  {
   "cell_type": "markdown",
   "id": "bbf0a3f2",
   "metadata": {},
   "source": [
    "[*The Museum of Modern Art (MoMA) Collection*](https://github.com/MuseumofModernArt/collection)\n",
    "\n",
    "description\n",
    "\n",
    "motivation\n",
    "\n",
    "questions"
   ]
  },
  {
   "cell_type": "markdown",
   "id": "4d1cad3f",
   "metadata": {},
   "source": [
    "*explores and presents information about your data*\n",
    "\n",
    "* This can include summary information about the data, summary statistics where appropriate, an identification of where there may be missing/incorrect/outlier data, and data preprocessing\n",
    "* It should include at least 4 exploratory data visualizations"
   ]
  },
  {
   "cell_type": "code",
   "execution_count": null,
   "id": "2f2438ab",
   "metadata": {},
   "outputs": [],
   "source": [
    "# begin of analysis\n",
    "\n",
    "# visualization 1\n",
    "\n",
    "# visualization 2\n",
    "\n",
    "# visualization 3\n",
    "\n",
    "# visualization 4"
   ]
  }
 ],
 "metadata": {
  "kernelspec": {
   "display_name": "Python 3 (ipykernel)",
   "language": "python",
   "name": "python3"
  },
  "language_info": {
   "codemirror_mode": {
    "name": "ipython",
    "version": 3
   },
   "file_extension": ".py",
   "mimetype": "text/x-python",
   "name": "python",
   "nbconvert_exporter": "python",
   "pygments_lexer": "ipython3",
   "version": "3.10.8"
  }
 },
 "nbformat": 4,
 "nbformat_minor": 5
}
